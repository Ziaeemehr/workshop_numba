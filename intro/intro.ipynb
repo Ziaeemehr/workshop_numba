{
 "cells": [
  {
   "cell_type": "code",
   "execution_count": 3,
   "metadata": {},
   "outputs": [
    {
     "name": "stdout",
     "output_type": "stream",
     "text": [
      "5\n",
      "[ 5 14 23]\n"
     ]
    }
   ],
   "source": [
    "import numba as nb\n",
    "import numpy as np\n",
    "\n",
    "class MyClass:\n",
    "    def __init__(self, a, b):\n",
    "        self.a = a\n",
    "        self.b = b\n",
    "\n",
    "    @staticmethod\n",
    "    @nb.njit\n",
    "    def my_method(x, a, b):\n",
    "        # Perform some computations involving a and b\n",
    "        return x * a + b\n",
    "    @staticmethod\n",
    "    @nb.njit\n",
    "    def matvec(x, a):\n",
    "        n, m = x.shape\n",
    "        assert(m == len(a))\n",
    "        b = np.zeros_like(a)\n",
    "        # implement matrix-vector multiplication\n",
    "        for i in range(n):\n",
    "            for j in range(m):\n",
    "                b[i] += x[i, j] * a[j]\n",
    "        return b\n",
    "        \n",
    "\n",
    "# Usage\n",
    "obj = MyClass(1, 2)\n",
    "result = MyClass.my_method(3, obj.a, obj.b)\n",
    "print(result)\n",
    "A = np.arange(9).reshape(3, 3)\n",
    "a = np.arange(3)\n",
    "result = MyClass.matvec(A, a)\n",
    "print(result)\n"
   ]
  },
  {
   "cell_type": "markdown",
   "metadata": {},
   "source": [
    "- passing class object to function"
   ]
  },
  {
   "cell_type": "code",
   "execution_count": 3,
   "metadata": {},
   "outputs": [
    {
     "data": {
      "text/plain": [
       "4100000.00006511"
      ]
     },
     "execution_count": 3,
     "metadata": {},
     "output_type": "execute_result"
    }
   ],
   "source": [
    "from numba import jit, njit       \n",
    "from numba import float64    \n",
    "from numba.experimental import jitclass\n",
    "\n",
    "spec = [(\"a\", float64),(\"b\",float64)]\n",
    "@jitclass(spec)\n",
    "class params():\n",
    "    def __init__(self, a=1.1, b=2.3):\n",
    "        self.a = a\n",
    "        self.b = b\n",
    "\n",
    "    def sum(self):\n",
    "        return self.a + self.b\n",
    "\n",
    "\n",
    "@njit(float64(float64, params.class_type.instance_type)) \n",
    "def get_sum_3(c, someobj):\n",
    "    d = 0\n",
    "    for i in range(1000):\n",
    "        for j in range(1000):\n",
    "            d += c + someobj.sum()\n",
    "    return d   \n",
    "\n",
    "get_sum_3(1.1, params(1.0, 2.0))"
   ]
  },
  {
   "cell_type": "code",
   "execution_count": 15,
   "metadata": {},
   "outputs": [
    {
     "name": "stdout",
     "output_type": "stream",
     "text": [
      "1\n",
      "2j\n",
      "3.0\n",
      "a\n"
     ]
    }
   ],
   "source": [
    "from numba import njit, literal_unroll\n",
    "\n",
    "@njit\n",
    "def foo():\n",
    "    heterogeneous_tuple = (1, 2j, 3.0, \"a\")\n",
    "    for i in literal_unroll(heterogeneous_tuple):\n",
    "        print(i)\n",
    "\n",
    "foo()"
   ]
  },
  {
   "cell_type": "code",
   "execution_count": 10,
   "metadata": {},
   "outputs": [
    {
     "name": "stdout",
     "output_type": "stream",
     "text": [
      "[1. 2. 3. 4. 5.]\n"
     ]
    },
    {
     "data": {
      "text/plain": [
       "array([1., 2., 3., 4., 5.])"
      ]
     },
     "execution_count": 10,
     "metadata": {},
     "output_type": "execute_result"
    }
   ],
   "source": [
    "from numba.experimental import jitclass\n",
    "from numba import float64\n",
    "import numpy as np\n",
    "\n",
    "# Define the jitclass\n",
    "@jitclass([('float_array', float64[:])])\n",
    "class MyClass:\n",
    "    def __init__(self, size):\n",
    "        # Create a float64 array with the specified size\n",
    "        self.float_array = np.zeros(size, dtype=np.float64)\n",
    "\n",
    "    def update_array(self, new_values):\n",
    "        # Update the float_array with new values\n",
    "        self.float_array[:] = new_values\n",
    "\n",
    "    def print_array(self):\n",
    "        # Print the float_array\n",
    "        print(self.float_array)\n",
    "    \n",
    "    def get_data(self):\n",
    "        return [(\"float_array\", self.float_array)]\n",
    "\n",
    "# Create an instance of the jitclass\n",
    "my_instance = MyClass(5)\n",
    "\n",
    "# Update and print the array\n",
    "new_values = np.array([1.0, 2.0, 3.0, 4.0, 5.0], dtype=np.float64)\n",
    "my_instance.update_array(new_values)\n",
    "my_instance.print_array()\n",
    "my_instance.float_array\n",
    "# my_instance.get_data()\n"
   ]
  },
  {
   "cell_type": "code",
   "execution_count": 18,
   "metadata": {},
   "outputs": [
    {
     "name": "stdout",
     "output_type": "stream",
     "text": [
      "{'float_array': array([0., 0., 0., 0., 0.]), 'size': 5}\n"
     ]
    },
    {
     "data": {
      "text/plain": [
       "(array([0., 0., 0., 0., 0.]), 5)"
      ]
     },
     "execution_count": 18,
     "metadata": {},
     "output_type": "execute_result"
    }
   ],
   "source": [
    "from numba.experimental import jitclass\n",
    "from numba import float64, int64\n",
    "import numpy as np\n",
    "\n",
    "# Define the jitclass\n",
    "# @jitclass([('float_array', float64[:])])\n",
    "class MyClass:\n",
    "    def __init__(self, size):\n",
    "        # Create a float64 array with the specified size\n",
    "        self.float_array = np.zeros(size, dtype=np.float64)\n",
    "        self.size = size\n",
    "\n",
    "    def get_params(self):\n",
    "        return self.__dict__\n",
    "\n",
    "jitclass_spec = [\n",
    "    ('float_array', float64[:]),\n",
    "    ('size', int64)\n",
    "]\n",
    "obj = MyClass(5)\n",
    "print(obj.get_params()) \n",
    "\n",
    "obj = jitclass(jitclass_spec)(MyClass)(5)\n",
    "obj.float_array, obj.size\n"
   ]
  },
  {
   "cell_type": "code",
   "execution_count": 31,
   "metadata": {},
   "outputs": [
    {
     "name": "stdout",
     "output_type": "stream",
     "text": [
      "id: 1506509 \n",
      "id: 1506510 \n",
      "\n",
      "\n",
      "id: 1506510 \n",
      "id: 1506509 \n",
      "\n",
      "\n",
      "id: 1506510 \n",
      "\n",
      "[0.0, 1.0, 4.0, 9.0, 16.0]\n"
     ]
    }
   ],
   "source": [
    "# using jitclass with multiprocessing\n",
    "\n",
    "import os\n",
    "import numba\n",
    "from time import sleep\n",
    "from numba.experimental import jitclass\n",
    "from multiprocessing import Pool\n",
    "\n",
    "jit_class = jitclass({'a': numba.float64})\n",
    "@jit_class\n",
    "class JitClass:\n",
    "    def __init__(self, a):\n",
    "        self.a = a\n",
    "\n",
    "    def square_value(self):\n",
    "        return self.a ** 2\n",
    "\n",
    "jit_class_instance = JitClass(3.0)\n",
    "jit_class_instance.square_value()\n",
    "\n",
    "def wrapper(value):\n",
    "    sleep(1)\n",
    "    print(\"id: {} \\n\".format(os.getpid()))\n",
    "    jit_class_instance = JitClass(value)\n",
    "    return jit_class_instance.square_value()\n",
    "\n",
    "with Pool(2) as p:\n",
    "    data = p.map(wrapper, range(5))\n",
    "\n",
    "print(data)"
   ]
  },
  {
   "cell_type": "code",
   "execution_count": 37,
   "metadata": {},
   "outputs": [
    {
     "name": "stdout",
     "output_type": "stream",
     "text": [
      "id: 1508707 \n",
      "id: 1508708 \n",
      "\n",
      "\n",
      "id: 1508708 \n",
      "id: 1508707 \n",
      "\n",
      "\n",
      "id: 1508708 \n",
      "\n"
     ]
    }
   ],
   "source": [
    "# using jitclass with multiprocessing, pass jitclass instance as argument\n",
    "\n",
    "import os\n",
    "import numba\n",
    "from time import sleep\n",
    "from numba.experimental import jitclass\n",
    "from multiprocessing import Pool\n",
    "\n",
    "jit_class = jitclass({'a': numba.float64,\n",
    "                      'b': numba.float64})\n",
    "@jit_class\n",
    "class JitClass:\n",
    "    def __init__(self, a, b):\n",
    "        self.a = a\n",
    "        self.b = b\n",
    "\n",
    "class A:\n",
    "    def __init__(self, a, b):\n",
    "        self.a = a\n",
    "        self.b = b\n",
    "        self.P = JitClass(a, b)\n",
    "\n",
    "    @staticmethod\n",
    "    @numba.njit\n",
    "    def multiply(P):\n",
    "        r = P.a * P.b\n",
    "        return r\n",
    "\n",
    "def wrapper(a, b):\n",
    "    sleep(1)\n",
    "    print(\"id: {} \\n\".format(os.getpid()))\n",
    "    obj = A(a, b)\n",
    "    return A.multiply(obj.P)\n",
    "\n",
    "par_list = np.random.rand(5,2).tolist()\n",
    "\n",
    "with Pool(2) as p:\n",
    "    data = p.starmap(wrapper, par_list)"
   ]
  }
 ],
 "metadata": {
  "kernelspec": {
   "display_name": "msl",
   "language": "python",
   "name": "python3"
  },
  "language_info": {
   "codemirror_mode": {
    "name": "ipython",
    "version": 3
   },
   "file_extension": ".py",
   "mimetype": "text/x-python",
   "name": "python",
   "nbconvert_exporter": "python",
   "pygments_lexer": "ipython3",
   "version": "3.9.17"
  }
 },
 "nbformat": 4,
 "nbformat_minor": 2
}
